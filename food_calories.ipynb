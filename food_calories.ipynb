{
 "cells": [
  {
   "cell_type": "code",
   "execution_count": 2,
   "metadata": {},
   "outputs": [],
   "source": [
    "import requests\n",
    "from bs4 import BeautifulSoup\n",
    "import csv\n",
    "base_url = \"https://www.nriol.com/health/calorie-chart.asp\"\n",
    "\n",
    "def get_data(url):\n",
    "    response = requests.get(url)\n",
    "    \n",
    "    html_soup = BeautifulSoup(response.content, 'lxml')\n",
    "    tables = html_soup.find_all(\"table\")\n",
    "    table = tables[0]\n",
    "    raw_trs = table.find_all(\"tr\")\n",
    "    clean_trs = raw_trs[1:50]\n",
    "    raw_columns, raw_rows = clean_trs[0], clean_trs[1:]\n",
    "    columns =[td.text for td in raw_columns.find_all('td')]\n",
    "    rows =[[td.text for td in row.find_all('td')] for row in raw_rows]\n",
    "    rows =[row for row in rows if row.__len__()>1]\n",
    "    return columns, rows\n",
    "\n",
    "def get_dict(**datas):\n",
    "    columns = datas.get('columns')\n",
    "    rows = datas.get('rows')\n",
    "    return [dict(zip(columns, row)) for row in rows]\n",
    "\n",
    "def write_to_csv(filename, datas):\n",
    "    with open(filename, 'w') as write_file:\n",
    "        writer = csv.DictWriter(write_file, fieldnames=datas[0].keys())\n",
    "        writer.writeheader()\n",
    "        writer.writerows(datas)\n",
    "        \n",
    "columns,rows =get_data(base_url)\n",
    "datas = get_dict(columns=columns, rows=rows)\n",
    "write_to_csv(\"food.csv\", datas)"
   ]
  },
  {
   "cell_type": "code",
   "execution_count": null,
   "metadata": {},
   "outputs": [],
   "source": []
  },
  {
   "cell_type": "code",
   "execution_count": null,
   "metadata": {},
   "outputs": [],
   "source": []
  }
 ],
 "metadata": {
  "kernelspec": {
   "display_name": "Python 3",
   "language": "python",
   "name": "python3"
  },
  "language_info": {
   "codemirror_mode": {
    "name": "ipython",
    "version": 3
   },
   "file_extension": ".py",
   "mimetype": "text/x-python",
   "name": "python",
   "nbconvert_exporter": "python",
   "pygments_lexer": "ipython3",
   "version": "3.7.4"
  }
 },
 "nbformat": 4,
 "nbformat_minor": 2
}
